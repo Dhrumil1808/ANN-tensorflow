{
 "cells": [
  {
   "cell_type": "code",
   "execution_count": 1,
   "metadata": {},
   "outputs": [
    {
     "name": "stdout",
     "output_type": "stream",
     "text": [
      "Extracting MNIST_data/train-images-idx3-ubyte.gz\n",
      "Extracting MNIST_data/train-labels-idx1-ubyte.gz\n",
      "Extracting MNIST_data/t10k-images-idx3-ubyte.gz\n",
      "Extracting MNIST_data/t10k-labels-idx1-ubyte.gz\n",
      "Accuracy 0.925000011921\n"
     ]
    }
   ],
   "source": [
    "import numpy as np\n",
    "import tensorflow as tf\n",
    "from tensorflow.examples.tutorials.mnist import input_data\n",
    "import time\n",
    "\n",
    "\n",
    "X = tf.placeholder(tf.float32, [None, 784])\n",
    "\n",
    "init = tf.global_variables_initializer()\n",
    "mnist = input_data.read_data_sets('MNIST_data/', one_hot=True) \n",
    "\n",
    "\n",
    "\n",
    "Y_ = tf.placeholder(tf.float32, [None, 10])\n",
    "L = 200\n",
    "M = 100\n",
    "N = 50\n",
    "O = 25\n",
    "\n",
    "\n",
    "W1 = tf.Variable(tf.truncated_normal([784, L], stddev=0.1))  # 784 = 28 * 28\n",
    "B1 = tf.Variable(tf.zeros([L]))\n",
    "W2 = tf.Variable(tf.truncated_normal([L, M], stddev=0.1))\n",
    "B2 = tf.Variable(tf.zeros([M]))\n",
    "W3 = tf.Variable(tf.truncated_normal([M, N], stddev=0.1))\n",
    "B3 = tf.Variable(tf.zeros([N]))\n",
    "W4 = tf.Variable(tf.truncated_normal([N, O], stddev=0.1))\n",
    "B4 = tf.Variable(tf.zeros([O]))\n",
    "W5 = tf.Variable(tf.truncated_normal([O, 10], stddev=0.1))\n",
    "B5 = tf.Variable(tf.zeros([10]))\n",
    "\n",
    "# The model\n",
    "#print(sess.run(X))\n",
    "Y1 = tf.nn.sigmoid(tf.matmul(X, W1) + B1)\n",
    "Y2 = tf.nn.sigmoid(tf.matmul(Y1, W2) + B2)\n",
    "Y3 = tf.nn.sigmoid(tf.matmul(Y2, W3) + B3)\n",
    "Y4 = tf.nn.sigmoid(tf.matmul(Y3, W4) + B4)\n",
    "Ylogits = tf.matmul(Y4, W5) + B5\n",
    "Y = tf.nn.softmax(Ylogits)\n",
    "\n",
    "#cost = tf.reduce_mean(-tf.reduce_sum(Y_ * tf.log(Y), axis=1))\n",
    "cost = tf.nn.softmax_cross_entropy_with_logits(logits=Ylogits, labels=Y_)\n",
    "cost = tf.reduce_mean(cost)*100\n",
    "\n",
    "# Step 5:\n",
    "\n",
    "#optimizer = tf.train.GradientDescentOptimizer(learning_rate=0.1).minimize(cost)\n",
    "learning_rate = 0.03\n",
    "optimizer = tf.train.AdamOptimizer(learning_rate)\n",
    "train_step = optimizer.minimize(cost)\n",
    "\n",
    "\n",
    "# Step 6:\n",
    "\n",
    "# Calculate accuracy\n",
    "#accuracy = tf.reduce_mean(tf.cast(is_correct, tf.float32))\n",
    "\n",
    "\n",
    "# cross-entropy loss function (= -sum(Y_i * log(Yi)) ), normalised for batches of 100  images\n",
    "# TensorFlow provides the softmax_cross_entropy_with_logits function to avoid numerical stability\n",
    "# problems with log(0) which is NaN\n",
    "\n",
    "\n",
    "\n",
    "# accuracy of the trained model, between 0 (worst) and 1 (best)\n",
    "correct_prediction = tf.equal(tf.arg_max(Y, 1), tf.arg_max(Y_, 1))\n",
    "accuracy = tf.reduce_mean(tf.cast(correct_prediction, tf.float32))\n",
    "\n",
    "#is_correct = tf.equal(tf.arg_max(Y, 1), tf.arg_max(Y_, 1))\n",
    "\n",
    "init = tf.global_variables_initializer()\n",
    "sess = tf.Session()\n",
    "sess.run(init)\n",
    "\n",
    "\n",
    "\n",
    "\n",
    "for i in range(10000):\n",
    "    # load batch of images and correct answers\n",
    "    batch_X, batch_Y = mnist.train.next_batch(100)\n",
    "    train_data={X: batch_X, Y_: batch_Y}\n",
    "\n",
    "    # train\n",
    "    sess.run(train_step, feed_dict=train_data)\n",
    "\n",
    "a,c = sess.run([accuracy, cost], feed_dict=train_data)\n",
    "\n",
    "test_data={X: mnist.test.images, Y_: mnist.test.labels}\n",
    "a,c = sess.run([accuracy, cost], feed_dict=test_data)\n",
    "print('Accuracy {0}'.format(a))\n",
    "    "
   ]
  },
  {
   "cell_type": "code",
   "execution_count": 117,
   "metadata": {
    "scrolled": true
   },
   "outputs": [
    {
     "name": "stdout",
     "output_type": "stream",
     "text": [
      "Extracting MNIST_data/train-images-idx3-ubyte.gz\n",
      "Extracting MNIST_data/train-labels-idx1-ubyte.gz\n",
      "Extracting MNIST_data/t10k-images-idx3-ubyte.gz\n",
      "Extracting MNIST_data/t10k-labels-idx1-ubyte.gz\n",
      "INFO:tensorflow:Using default config.\n",
      "WARNING:tensorflow:Using temporary folder as model directory: /tmp/tmpgHb0PG\n",
      "INFO:tensorflow:Using config: {'_save_checkpoints_secs': 600, '_session_config': None, '_keep_checkpoint_max': 5, '_tf_random_seed': 1, '_keep_checkpoint_every_n_hours': 10000, '_save_checkpoints_steps': None, '_model_dir': '/tmp/tmpgHb0PG', '_save_summary_steps': 100}\n",
      "INFO:tensorflow:Create CheckpointSaverHook.\n",
      "INFO:tensorflow:Saving checkpoints for 1 into /tmp/tmpgHb0PG/model.ckpt.\n",
      "INFO:tensorflow:loss = 2.52182, step = 1\n",
      "INFO:tensorflow:global_step/sec: 58.2073\n",
      "INFO:tensorflow:loss = 0.498195, step = 101 (1.699 sec)\n",
      "INFO:tensorflow:global_step/sec: 83.0128\n",
      "INFO:tensorflow:loss = 0.341044, step = 201 (1.205 sec)\n",
      "INFO:tensorflow:global_step/sec: 83.8338\n",
      "INFO:tensorflow:loss = 0.272693, step = 301 (1.193 sec)\n",
      "INFO:tensorflow:global_step/sec: 83.8026\n",
      "INFO:tensorflow:loss = 0.332449, step = 401 (1.193 sec)\n",
      "INFO:tensorflow:global_step/sec: 82.6872\n",
      "INFO:tensorflow:loss = 0.171309, step = 501 (1.209 sec)\n",
      "INFO:tensorflow:global_step/sec: 82.4016\n",
      "INFO:tensorflow:loss = 0.347998, step = 601 (1.214 sec)\n",
      "INFO:tensorflow:global_step/sec: 83.48\n",
      "INFO:tensorflow:loss = 0.254888, step = 701 (1.198 sec)\n",
      "INFO:tensorflow:global_step/sec: 83.164\n",
      "INFO:tensorflow:loss = 0.222162, step = 801 (1.202 sec)\n",
      "INFO:tensorflow:global_step/sec: 83.1516\n",
      "INFO:tensorflow:loss = 0.355652, step = 901 (1.203 sec)\n",
      "INFO:tensorflow:Saving checkpoints for 1000 into /tmp/tmpgHb0PG/model.ckpt.\n",
      "INFO:tensorflow:Loss for final step: 0.383587.\n",
      "INFO:tensorflow:Starting evaluation at 2017-10-14-08:38:30\n",
      "INFO:tensorflow:Restoring parameters from /tmp/tmpgHb0PG/model.ckpt-1000\n",
      "INFO:tensorflow:Finished evaluation at 2017-10-14-08:38:31\n",
      "INFO:tensorflow:Saving dict for global step 1000: accuracy = 0.9071, global_step = 1000, loss = 0.327502\n",
      "Testing Accuracy: 0.9071\n"
     ]
    }
   ],
   "source": []
  },
  {
   "cell_type": "code",
   "execution_count": 3,
   "metadata": {},
   "outputs": [
    {
     "name": "stdout",
     "output_type": "stream",
     "text": [
      "Extracting MNIST_Data/train-images-idx3-ubyte.gz\n",
      "Extracting MNIST_Data/train-labels-idx1-ubyte.gz\n",
      "Extracting MNIST_Data/t10k-images-idx3-ubyte.gz\n",
      "Extracting MNIST_Data/t10k-labels-idx1-ubyte.gz\n",
      "Epoch: 0001 cost=333.499030692\n",
      "Epoch: 0002 cost=100.389845231\n",
      "Epoch: 0003 cost=72.008706642\n",
      "Epoch: 0004 cost=57.293269352\n",
      "Epoch: 0005 cost=47.587808693\n",
      "Epoch: 0006 cost=40.978513274\n",
      "Epoch: 0007 cost=36.299901165\n",
      "Epoch: 0008 cost=33.080623709\n",
      "Epoch: 0009 cost=29.995154036\n",
      "Epoch: 0010 cost=27.362288060\n",
      "Epoch: 0011 cost=25.819385780\n",
      "Epoch: 0012 cost=24.279705860\n",
      "Epoch: 0013 cost=22.769729416\n",
      "Epoch: 0014 cost=21.110228186\n",
      "Epoch: 0015 cost=20.462682527\n",
      "Optimization Finished!\n",
      "Accuracy: 0.8899\n"
     ]
    }
   ],
   "source": []
  },
  {
   "cell_type": "code",
   "execution_count": 16,
   "metadata": {},
   "outputs": [
    {
     "ename": "ValueError",
     "evalue": "Only call `softmax_cross_entropy_with_logits` with named arguments (labels=..., logits=..., ...)",
     "output_type": "error",
     "traceback": [
      "\u001b[0;31m---------------------------------------------------------------------------\u001b[0m",
      "\u001b[0;31mValueError\u001b[0m                                Traceback (most recent call last)",
      "\u001b[0;32m<ipython-input-16-110af4b8232d>\u001b[0m in \u001b[0;36m<module>\u001b[0;34m()\u001b[0m\n\u001b[1;32m     69\u001b[0m                           \u001b[0mlambda_term\u001b[0m \u001b[0;34m*\u001b[0m \u001b[0mtf\u001b[0m\u001b[0;34m.\u001b[0m\u001b[0mnn\u001b[0m\u001b[0;34m.\u001b[0m\u001b[0ml2_loss\u001b[0m\u001b[0;34m(\u001b[0m\u001b[0mweights_hiden\u001b[0m\u001b[0;34m)\u001b[0m \u001b[0;34m+\u001b[0m\u001b[0;34m\u001b[0m\u001b[0m\n\u001b[1;32m     70\u001b[0m                           \u001b[0mlambda_term\u001b[0m \u001b[0;34m*\u001b[0m \u001b[0mtf\u001b[0m\u001b[0;34m.\u001b[0m\u001b[0mnn\u001b[0m\u001b[0;34m.\u001b[0m\u001b[0ml2_loss\u001b[0m\u001b[0;34m(\u001b[0m\u001b[0mweights_out\u001b[0m\u001b[0;34m)\u001b[0m \u001b[0;34m+\u001b[0m\u001b[0;34m\u001b[0m\u001b[0m\n\u001b[0;32m---> 71\u001b[0;31m                           \u001b[0mlambda_term\u001b[0m \u001b[0;34m*\u001b[0m \u001b[0mtf\u001b[0m\u001b[0;34m.\u001b[0m\u001b[0mnn\u001b[0m\u001b[0;34m.\u001b[0m\u001b[0ml2_loss\u001b[0m\u001b[0;34m(\u001b[0m\u001b[0mbiases_hidden\u001b[0m\u001b[0;34m)\u001b[0m \u001b[0;34m+\u001b[0m\u001b[0;34m\u001b[0m\u001b[0m\n\u001b[0m\u001b[1;32m     72\u001b[0m                           lambda_term * tf.nn.l2_loss(biases_out))\n\u001b[1;32m     73\u001b[0m     \u001b[0moptimizer\u001b[0m \u001b[0;34m=\u001b[0m \u001b[0mtf\u001b[0m\u001b[0;34m.\u001b[0m\u001b[0mtrain\u001b[0m\u001b[0;34m.\u001b[0m\u001b[0mAdamOptimizer\u001b[0m\u001b[0;34m(\u001b[0m\u001b[0mlearning_rate\u001b[0m\u001b[0;34m=\u001b[0m\u001b[0mlearning_rate\u001b[0m\u001b[0;34m)\u001b[0m\u001b[0;34m.\u001b[0m\u001b[0mminimize\u001b[0m\u001b[0;34m(\u001b[0m\u001b[0mcost\u001b[0m\u001b[0;34m)\u001b[0m\u001b[0;34m\u001b[0m\u001b[0m\n",
      "\u001b[0;32m/home/dhrumil/anaconda2/lib/python2.7/site-packages/tensorflow/python/ops/nn_ops.pyc\u001b[0m in \u001b[0;36msoftmax_cross_entropy_with_logits\u001b[0;34m(_sentinel, labels, logits, dim, name)\u001b[0m\n\u001b[1;32m   1553\u001b[0m   \"\"\"\n\u001b[1;32m   1554\u001b[0m   _ensure_xent_args(\"softmax_cross_entropy_with_logits\", _sentinel,\n\u001b[0;32m-> 1555\u001b[0;31m                     labels, logits)\n\u001b[0m\u001b[1;32m   1556\u001b[0m \u001b[0;34m\u001b[0m\u001b[0m\n\u001b[1;32m   1557\u001b[0m   \u001b[0;31m# TODO(pcmurray) Raise an error when the labels do not sum to 1. Note: This\u001b[0m\u001b[0;34m\u001b[0m\u001b[0;34m\u001b[0m\u001b[0m\n",
      "\u001b[0;32m/home/dhrumil/anaconda2/lib/python2.7/site-packages/tensorflow/python/ops/nn_ops.pyc\u001b[0m in \u001b[0;36m_ensure_xent_args\u001b[0;34m(name, sentinel, labels, logits)\u001b[0m\n\u001b[1;32m   1508\u001b[0m   \u001b[0;32mif\u001b[0m \u001b[0msentinel\u001b[0m \u001b[0;32mis\u001b[0m \u001b[0;32mnot\u001b[0m \u001b[0mNone\u001b[0m\u001b[0;34m:\u001b[0m\u001b[0;34m\u001b[0m\u001b[0m\n\u001b[1;32m   1509\u001b[0m     raise ValueError(\"Only call `%s` with \"\n\u001b[0;32m-> 1510\u001b[0;31m                      \"named arguments (labels=..., logits=..., ...)\" % name)\n\u001b[0m\u001b[1;32m   1511\u001b[0m   \u001b[0;32mif\u001b[0m \u001b[0mlabels\u001b[0m \u001b[0;32mis\u001b[0m \u001b[0mNone\u001b[0m \u001b[0;32mor\u001b[0m \u001b[0mlogits\u001b[0m \u001b[0;32mis\u001b[0m \u001b[0mNone\u001b[0m\u001b[0;34m:\u001b[0m\u001b[0;34m\u001b[0m\u001b[0m\n\u001b[1;32m   1512\u001b[0m     \u001b[0;32mraise\u001b[0m \u001b[0mValueError\u001b[0m\u001b[0;34m(\u001b[0m\u001b[0;34m\"Both labels and logits must be provided.\"\u001b[0m\u001b[0;34m)\u001b[0m\u001b[0;34m\u001b[0m\u001b[0m\n",
      "\u001b[0;31mValueError\u001b[0m: Only call `softmax_cross_entropy_with_logits` with named arguments (labels=..., logits=..., ...)"
     ]
    }
   ],
   "source": []
  },
  {
   "cell_type": "code",
   "execution_count": null,
   "metadata": {
    "collapsed": true
   },
   "outputs": [],
   "source": []
  },
  {
   "cell_type": "code",
   "execution_count": null,
   "metadata": {
    "collapsed": true
   },
   "outputs": [],
   "source": []
  }
 ],
 "metadata": {
  "kernelspec": {
   "display_name": "Python 2",
   "language": "python",
   "name": "python2"
  },
  "language_info": {
   "codemirror_mode": {
    "name": "ipython",
    "version": 2
   },
   "file_extension": ".py",
   "mimetype": "text/x-python",
   "name": "python",
   "nbconvert_exporter": "python",
   "pygments_lexer": "ipython2",
   "version": "2.7.13"
  }
 },
 "nbformat": 4,
 "nbformat_minor": 2
}
